{
 "cells": [
  {
   "cell_type": "code",
   "execution_count": 93,
   "metadata": {},
   "outputs": [],
   "source": [
    "import keras\n",
    "import numpy as np\n",
    "from keras.models import Sequential\n",
    "from keras.layers import LSTM\n",
    "from keras.layers import Dense\n",
    "from sklearn.preprocessing import MinMaxScaler, StandardScaler"
   ]
  },
  {
   "cell_type": "code",
   "execution_count": 94,
   "metadata": {},
   "outputs": [
    {
     "name": "stdout",
     "output_type": "stream",
     "text": [
      "(1091, 24, 4)\n",
      "[[[3.000e+00 5.220e+01 4.000e+00 2.010e+02]\n",
      "  [6.100e+00 5.250e+01 2.400e+00 1.760e+02]\n",
      "  [5.300e+00 5.340e+01 2.100e+00 1.650e+02]\n",
      "  ...\n",
      "  [6.600e+00 6.220e+01 3.300e+00 1.400e+02]\n",
      "  [4.200e+00 6.300e+01 3.500e+00 1.860e+02]\n",
      "  [2.800e+00 6.370e+01 3.600e+00 2.000e+02]]\n",
      "\n",
      " [[4.500e+00 6.400e+01 3.600e+00 1.820e+02]\n",
      "  [5.400e+00 6.280e+01 1.600e+00 1.470e+02]\n",
      "  [5.300e+00 6.190e+01 1.500e+00 1.420e+02]\n",
      "  ...\n",
      "  [2.300e+00 6.150e+01 4.900e+00 1.980e+02]\n",
      "  [3.200e+00 6.120e+01 4.600e+00 2.100e+02]\n",
      "  [3.900e+00 6.030e+01 4.300e+00 2.140e+02]]\n",
      "\n",
      " [[3.700e+00 5.970e+01 4.600e+00 2.260e+02]\n",
      "  [3.800e+00 5.990e+01 3.000e+00 2.480e+02]\n",
      "  [6.000e+00 6.010e+01 3.200e+00 2.450e+02]\n",
      "  ...\n",
      "  [1.720e+01 5.500e+01 1.600e+00 2.140e+02]\n",
      "  [9.500e+00 5.630e+01 2.300e+00 3.010e+02]\n",
      "  [5.900e+00 5.580e+01 2.300e+00 2.890e+02]]\n",
      "\n",
      " ...\n",
      "\n",
      " [[4.540e+01 5.090e+01 4.000e-01 5.150e+01]\n",
      "  [3.960e+01 4.920e+01 1.000e+00 3.522e+02]\n",
      "  [3.960e+01 4.880e+01 8.000e-01 3.553e+02]\n",
      "  ...\n",
      "  [4.030e+01 6.350e+01 1.100e+00 1.784e+02]\n",
      "  [3.840e+01 6.060e+01 6.000e-01 1.737e+02]\n",
      "  [3.980e+01 5.820e+01 1.400e+00 9.110e+01]]\n",
      "\n",
      " [[3.680e+01 5.560e+01 1.000e+00 1.220e+02]\n",
      "  [3.620e+01 5.380e+01 9.000e-01 8.750e+01]\n",
      "  [3.410e+01 5.160e+01 3.000e-01 8.560e+01]\n",
      "  ...\n",
      "  [5.290e+01 6.020e+01 8.000e-01 3.489e+02]\n",
      "  [4.480e+01 5.800e+01 1.800e+00 8.750e+01]\n",
      "  [4.180e+01 5.580e+01 8.000e-01 3.501e+02]]\n",
      "\n",
      " [[4.080e+01 5.360e+01 6.000e-01 6.590e+01]\n",
      "  [3.920e+01 5.260e+01 1.300e+00 7.000e-01]\n",
      "  [4.020e+01 5.080e+01 1.100e+00 3.464e+02]\n",
      "  ...\n",
      "  [4.090e+01 5.610e+01 8.000e-01 5.800e+00]\n",
      "  [3.890e+01 5.380e+01 9.000e-01 3.497e+02]\n",
      "  [3.680e+01 5.210e+01 1.500e+00 3.465e+02]]]\n"
     ]
    }
   ],
   "source": [
    "#Read in data\n",
    "path='C:/Users/mariak/Documents/limited-data.npy'\n",
    "path='C:/Users/mariak/Documents/three-years (1).npy'\n",
    "data=np.load(path)\n",
    "print(data.shape)\n",
    "print(data)"
   ]
  },
  {
   "cell_type": "code",
   "execution_count": 95,
   "metadata": {},
   "outputs": [],
   "source": [
    "#In some MinMax cases might reduce correlation \n",
    "#StandardScaler gives gibberish results\n",
    "\n",
    "def standardize_data(data):\n",
    "    scaler=MinMaxScaler()\n",
    "    #scaler=StandardScaler()\n",
    "    nr_of_days=data.shape[0]\n",
    "    nr_of_hours=data.shape[1]\n",
    "    scaler.fit(data.reshape(nr_of_days*nr_of_hours,4))\n",
    "    sc_data=scaler.transform(data.reshape(nr_of_days*nr_of_hours,4)).reshape(nr_of_days,nr_of_hours,4)\n",
    "    return sc_data\n",
    "\n",
    "data=standardize_data(data)"
   ]
  },
  {
   "cell_type": "code",
   "execution_count": 96,
   "metadata": {},
   "outputs": [
    {
     "name": "stdout",
     "output_type": "stream",
     "text": [
      "[[0.04761905 0.39232409 0.0982801  0.55833333]\n",
      " [0.0968254  0.39552239 0.05896806 0.48888889]\n",
      " [0.08412698 0.40511727 0.05159705 0.45833333]\n",
      " [0.06349206 0.42110874 0.04668305 0.48055556]\n",
      " [0.04603175 0.42643923 0.02948403 0.32777778]\n",
      " [0.06984127 0.42857143 0.04176904 0.33055556]\n",
      " [0.05238095 0.42643923 0.05159705 0.35833333]\n",
      " [0.08888889 0.43603412 0.06142506 0.39722222]\n",
      " [0.08412698 0.45522388 0.08599509 0.41944444]\n",
      " [0.0952381  0.46481876 0.10565111 0.44444444]\n",
      " [0.10952381 0.47654584 0.10565111 0.45      ]\n",
      " [0.07301587 0.47867804 0.1007371  0.47222222]\n",
      " [0.07777778 0.46908316 0.06879607 0.47222222]\n",
      " [0.14285714 0.46481876 0.05405405 0.3       ]\n",
      " [0.1031746  0.46908316 0.1007371  0.4       ]\n",
      " [0.1        0.48187633 0.06388206 0.38333333]\n",
      " [0.12380952 0.48187633 0.07125307 0.43333333]\n",
      " [0.1        0.48827292 0.06633907 0.45555556]\n",
      " [0.11269841 0.49147122 0.09090909 0.50833333]\n",
      " [0.13968254 0.49573561 0.05651106 0.45833333]\n",
      " [0.14444444 0.4978678  0.04422604 0.32222222]\n",
      " [0.1047619  0.4989339  0.08108108 0.38888889]\n",
      " [0.06666667 0.50746269 0.08599509 0.51666667]\n",
      " [0.04444444 0.51492537 0.08845209 0.55555556]]\n",
      "[[0.0968254  0.39552239 0.05896806 0.48888889]\n",
      " [0.08412698 0.40511727 0.05159705 0.45833333]\n",
      " [0.06349206 0.42110874 0.04668305 0.48055556]\n",
      " [0.04603175 0.42643923 0.02948403 0.32777778]\n",
      " [0.06984127 0.42857143 0.04176904 0.33055556]\n",
      " [0.05238095 0.42643923 0.05159705 0.35833333]\n",
      " [0.08888889 0.43603412 0.06142506 0.39722222]\n",
      " [0.08412698 0.45522388 0.08599509 0.41944444]\n",
      " [0.0952381  0.46481876 0.10565111 0.44444444]\n",
      " [0.10952381 0.47654584 0.10565111 0.45      ]\n",
      " [0.07301587 0.47867804 0.1007371  0.47222222]\n",
      " [0.07777778 0.46908316 0.06879607 0.47222222]\n",
      " [0.14285714 0.46481876 0.05405405 0.3       ]\n",
      " [0.1031746  0.46908316 0.1007371  0.4       ]\n",
      " [0.1        0.48187633 0.06388206 0.38333333]\n",
      " [0.12380952 0.48187633 0.07125307 0.43333333]\n",
      " [0.1        0.48827292 0.06633907 0.45555556]\n",
      " [0.11269841 0.49147122 0.09090909 0.50833333]\n",
      " [0.13968254 0.49573561 0.05651106 0.45833333]\n",
      " [0.14444444 0.4978678  0.04422604 0.32222222]\n",
      " [0.1047619  0.4989339  0.08108108 0.38888889]\n",
      " [0.06666667 0.50746269 0.08599509 0.51666667]\n",
      " [0.04444444 0.51492537 0.08845209 0.55555556]\n",
      " [0.04761905 0.39232409 0.0982801  0.55833333]]\n",
      "[[0.04761905 0.39232409 0.0982801  0.55833333]\n",
      " [0.0968254  0.39552239 0.05896806 0.48888889]\n",
      " [0.08412698 0.40511727 0.05159705 0.45833333]\n",
      " [0.06349206 0.42110874 0.04668305 0.48055556]\n",
      " [0.04603175 0.42643923 0.02948403 0.32777778]\n",
      " [0.06984127 0.42857143 0.04176904 0.33055556]\n",
      " [0.05238095 0.42643923 0.05159705 0.35833333]\n",
      " [0.08888889 0.43603412 0.06142506 0.39722222]\n",
      " [0.08412698 0.45522388 0.08599509 0.41944444]\n",
      " [0.0952381  0.46481876 0.10565111 0.44444444]\n",
      " [0.10952381 0.47654584 0.10565111 0.45      ]\n",
      " [0.07301587 0.47867804 0.1007371  0.47222222]\n",
      " [0.07777778 0.46908316 0.06879607 0.47222222]\n",
      " [0.14285714 0.46481876 0.05405405 0.3       ]\n",
      " [0.1031746  0.46908316 0.1007371  0.4       ]\n",
      " [0.1        0.48187633 0.06388206 0.38333333]\n",
      " [0.12380952 0.48187633 0.07125307 0.43333333]\n",
      " [0.1        0.48827292 0.06633907 0.45555556]\n",
      " [0.11269841 0.49147122 0.09090909 0.50833333]\n",
      " [0.13968254 0.49573561 0.05651106 0.45833333]\n",
      " [0.14444444 0.4978678  0.04422604 0.32222222]\n",
      " [0.1047619  0.4989339  0.08108108 0.38888889]\n",
      " [0.06666667 0.50746269 0.08599509 0.51666667]\n",
      " [0.04444444 0.51492537 0.08845209 0.55555556]]\n",
      "[[0.0968254  0.39552239 0.05896806 0.48888889]\n",
      " [0.08412698 0.40511727 0.05159705 0.45833333]\n",
      " [0.06349206 0.42110874 0.04668305 0.48055556]\n",
      " [0.04603175 0.42643923 0.02948403 0.32777778]\n",
      " [0.06984127 0.42857143 0.04176904 0.33055556]\n",
      " [0.05238095 0.42643923 0.05159705 0.35833333]\n",
      " [0.08888889 0.43603412 0.06142506 0.39722222]\n",
      " [0.08412698 0.45522388 0.08599509 0.41944444]\n",
      " [0.0952381  0.46481876 0.10565111 0.44444444]\n",
      " [0.10952381 0.47654584 0.10565111 0.45      ]\n",
      " [0.07301587 0.47867804 0.1007371  0.47222222]\n",
      " [0.07777778 0.46908316 0.06879607 0.47222222]\n",
      " [0.14285714 0.46481876 0.05405405 0.3       ]\n",
      " [0.1031746  0.46908316 0.1007371  0.4       ]\n",
      " [0.1        0.48187633 0.06388206 0.38333333]\n",
      " [0.12380952 0.48187633 0.07125307 0.43333333]\n",
      " [0.1        0.48827292 0.06633907 0.45555556]\n",
      " [0.11269841 0.49147122 0.09090909 0.50833333]\n",
      " [0.13968254 0.49573561 0.05651106 0.45833333]\n",
      " [0.14444444 0.4978678  0.04422604 0.32222222]\n",
      " [0.1047619  0.4989339  0.08108108 0.38888889]\n",
      " [0.06666667 0.50746269 0.08599509 0.51666667]\n",
      " [0.04444444 0.51492537 0.08845209 0.55555556]\n",
      " [0.         0.         0.         0.        ]]\n"
     ]
    }
   ],
   "source": [
    "def generate_labels(data):\n",
    "    labels=np.roll(data,-1,axis=1)\n",
    "    print(data[0])\n",
    "    print(labels[0])\n",
    "    for day in range(0,data.shape[0]):\n",
    "        labels[day,23,:]=np.zeros((1,1,4))\n",
    "    return labels\n",
    "y=generate_labels(data)\n",
    "print(data[0])\n",
    "print(y[0])"
   ]
  },
  {
   "cell_type": "code",
   "execution_count": 97,
   "metadata": {},
   "outputs": [
    {
     "name": "stdout",
     "output_type": "stream",
     "text": [
      "Train on 891 samples, validate on 100 samples\n",
      "Epoch 1/500\n",
      "891/891 [==============================] - 16s 18ms/step - loss: 0.0681 - mean_squared_error: 0.0681 - val_loss: 0.0586 - val_mean_squared_error: 0.0586\n",
      "Epoch 2/500\n",
      "891/891 [==============================] - 13s 14ms/step - loss: 0.0393 - mean_squared_error: 0.0393 - val_loss: 0.0476 - val_mean_squared_error: 0.0476\n",
      "Epoch 3/500\n",
      "891/891 [==============================] - 13s 14ms/step - loss: 0.0315 - mean_squared_error: 0.0315 - val_loss: 0.0377 - val_mean_squared_error: 0.0377\n",
      "Epoch 4/500\n",
      "891/891 [==============================] - 13s 14ms/step - loss: 0.0260 - mean_squared_error: 0.0260 - val_loss: 0.0342 - val_mean_squared_error: 0.0342\n",
      "Epoch 5/500\n",
      "891/891 [==============================] - 13s 14ms/step - loss: 0.0214 - mean_squared_error: 0.0214 - val_loss: 0.0262 - val_mean_squared_error: 0.0262\n",
      "Epoch 6/500\n",
      "891/891 [==============================] - 13s 14ms/step - loss: 0.0186 - mean_squared_error: 0.0186 - val_loss: 0.0233 - val_mean_squared_error: 0.0233\n",
      "Epoch 7/500\n",
      "891/891 [==============================] - 13s 14ms/step - loss: 0.0167 - mean_squared_error: 0.0167 - val_loss: 0.0189 - val_mean_squared_error: 0.0189\n",
      "Epoch 8/500\n",
      "891/891 [==============================] - 12s 14ms/step - loss: 0.0146 - mean_squared_error: 0.0146 - val_loss: 0.0156 - val_mean_squared_error: 0.0156\n",
      "Epoch 9/500\n",
      "891/891 [==============================] - 13s 14ms/step - loss: 0.0128 - mean_squared_error: 0.0128 - val_loss: 0.0123 - val_mean_squared_error: 0.0123\n",
      "Epoch 10/500\n",
      "891/891 [==============================] - 13s 14ms/step - loss: 0.0112 - mean_squared_error: 0.0112 - val_loss: 0.0103 - val_mean_squared_error: 0.0103\n",
      "Epoch 11/500\n",
      "891/891 [==============================] - 13s 14ms/step - loss: 0.0104 - mean_squared_error: 0.0104 - val_loss: 0.0091 - val_mean_squared_error: 0.0091\n",
      "Epoch 12/500\n",
      "891/891 [==============================] - 13s 14ms/step - loss: 0.0096 - mean_squared_error: 0.0096 - val_loss: 0.0074 - val_mean_squared_error: 0.0074\n",
      "Epoch 13/500\n",
      "891/891 [==============================] - 13s 14ms/step - loss: 0.0089 - mean_squared_error: 0.0089 - val_loss: 0.0070 - val_mean_squared_error: 0.0070\n",
      "Epoch 14/500\n",
      "891/891 [==============================] - 12s 14ms/step - loss: 0.0084 - mean_squared_error: 0.0084 - val_loss: 0.0062 - val_mean_squared_error: 0.0062\n",
      "Epoch 15/500\n",
      "891/891 [==============================] - 13s 14ms/step - loss: 0.0079 - mean_squared_error: 0.0079 - val_loss: 0.0053 - val_mean_squared_error: 0.0053\n",
      "Epoch 16/500\n",
      "891/891 [==============================] - 13s 14ms/step - loss: 0.0074 - mean_squared_error: 0.0074 - val_loss: 0.0047 - val_mean_squared_error: 0.0047\n",
      "Epoch 17/500\n",
      "891/891 [==============================] - 13s 14ms/step - loss: 0.0071 - mean_squared_error: 0.0071 - val_loss: 0.0043 - val_mean_squared_error: 0.0043\n",
      "Epoch 18/500\n",
      "891/891 [==============================] - 13s 14ms/step - loss: 0.0069 - mean_squared_error: 0.0069 - val_loss: 0.0039 - val_mean_squared_error: 0.0039\n",
      "Epoch 19/500\n",
      "891/891 [==============================] - 13s 14ms/step - loss: 0.0067 - mean_squared_error: 0.0067 - val_loss: 0.0037 - val_mean_squared_error: 0.0037\n",
      "Epoch 20/500\n",
      "891/891 [==============================] - 13s 14ms/step - loss: 0.0065 - mean_squared_error: 0.0065 - val_loss: 0.0040 - val_mean_squared_error: 0.0040\n",
      "Epoch 21/500\n",
      "891/891 [==============================] - 13s 14ms/step - loss: 0.0064 - mean_squared_error: 0.0064 - val_loss: 0.0037 - val_mean_squared_error: 0.0037\n",
      "Epoch 22/500\n",
      "891/891 [==============================] - 13s 14ms/step - loss: 0.0062 - mean_squared_error: 0.0062 - val_loss: 0.0037 - val_mean_squared_error: 0.0037\n",
      "Epoch 23/500\n",
      "891/891 [==============================] - 13s 14ms/step - loss: 0.0060 - mean_squared_error: 0.0060 - val_loss: 0.0034 - val_mean_squared_error: 0.0034\n",
      "Epoch 24/500\n",
      "891/891 [==============================] - 13s 14ms/step - loss: 0.0061 - mean_squared_error: 0.0061 - val_loss: 0.0034 - val_mean_squared_error: 0.0034\n",
      "Epoch 25/500\n",
      "891/891 [==============================] - 12s 14ms/step - loss: 0.0059 - mean_squared_error: 0.0059 - val_loss: 0.0029 - val_mean_squared_error: 0.0029\n",
      "Epoch 26/500\n",
      "891/891 [==============================] - 13s 15ms/step - loss: 0.0060 - mean_squared_error: 0.0060 - val_loss: 0.0029 - val_mean_squared_error: 0.0029\n",
      "Epoch 27/500\n",
      "891/891 [==============================] - 13s 14ms/step - loss: 0.0058 - mean_squared_error: 0.0058 - val_loss: 0.0035 - val_mean_squared_error: 0.0035\n",
      "Epoch 28/500\n",
      "891/891 [==============================] - 13s 14ms/step - loss: 0.0058 - mean_squared_error: 0.0058 - val_loss: 0.0030 - val_mean_squared_error: 0.0030\n"
     ]
    }
   ],
   "source": [
    "import matplotlib.pyplot as plt\n",
    "from keras.callbacks import EarlyStopping\n",
    "from keras.layers import Dropout\n",
    "%matplotlib inline\n",
    "def lstm_model(X_train,y_train,X_test,y_test):\n",
    "    '''\n",
    "    Train model.\n",
    "    '''\n",
    "    filters=28\n",
    "    kernel_size=3\n",
    "    stop_here_please = EarlyStopping(patience=3)\n",
    "    model = Sequential()\n",
    "    model.add(LSTM(128,return_sequences=True,input_shape=X_train.shape[1:]))\n",
    "    model.add(LSTM(128,return_sequences=True))\n",
    "    model.add(Dropout(0.5))\n",
    "    model.add(LSTM(128,return_sequences=True))    \n",
    "    model.add(Conv1D(filters,\n",
    "                 kernel_size,\n",
    "                 padding='same',\n",
    "                 activation='relu',\n",
    "                 strides=1))\n",
    "    model.add(Dropout(0.5))\n",
    "    #model.add(LSTM(128,return_sequences=True))\n",
    "    #model.add(Dropout(0.5))\n",
    "    model.add(Dense(4, activation='relu'))\n",
    "    model.compile(loss='mean_squared_error', optimizer='adam',metrics=['mse'])\n",
    "    history=model.fit(X_train, y_train, epochs=500, validation_split=0.1,batch_size=16, shuffle=True,callbacks=[stop_here_please])\n",
    "    return model, history\n",
    "    \n",
    "X_train=data[100:,:,:]\n",
    "y_train=y[100:,:,:]\n",
    "X_test=data[:100,:,:]\n",
    "y_test=data[:100,:,:]\n",
    "\n",
    "model, history=lstm_model(X_train,y_train,0,0)\n",
    "\n"
   ]
  },
  {
   "cell_type": "code",
   "execution_count": 98,
   "metadata": {},
   "outputs": [
    {
     "data": {
      "image/png": "[encoded data removed]",
      "text/plain": [
       "<matplotlib.figure.Figure at 0x297b1b89a90>"
      ]
     },
     "metadata": {},
     "output_type": "display_data"
    },
    {
     "data": {
      "image/png": "[encoded data removed]",
      "text/plain": [
       "<matplotlib.figure.Figure at 0x297b0b3a588>"
      ]
     },
     "metadata": {},
     "output_type": "display_data"
    }
   ],
   "source": [
    "plt.plot(history.history['mean_squared_error'])\n",
    "plt.plot(history.history['val_mean_squared_error'])\n",
    "plt.title('mean squared error')\n",
    "plt.ylabel('mean squared error')\n",
    "plt.xlabel('epoch')\n",
    "plt.legend(['train', 'validation'], loc='upper left')\n",
    "plt.show()\n",
    "# \"Loss\"\n",
    "plt.plot(history.history['loss'])\n",
    "plt.plot(history.history['val_loss'])\n",
    "plt.title('model loss')\n",
    "plt.ylabel('loss')\n",
    "plt.xlabel('epoch')\n",
    "plt.legend(['train', 'validation'], loc='upper left')\n",
    "plt.show()"
   ]
  },
  {
   "cell_type": "code",
   "execution_count": 106,
   "metadata": {},
   "outputs": [
    {
     "name": "stdout",
     "output_type": "stream",
     "text": [
      "[[0.20297465 0.4503684  0.01402596 0.18236485]\n",
      " [0.19196433 0.46490613 0.01598525 0.12918639]\n",
      " [0.18116908 0.46792015 0.01859192 0.11343637]\n",
      " [0.161665   0.4436379  0.01973013 0.08821651]\n",
      " [0.12012085 0.35034993 0.0198507  0.05636922]\n",
      " [0.         0.         0.         0.        ]]\n"
     ]
    }
   ],
   "source": [
    "#Predict\n",
    "X_=X_test[20,:,:].reshape(1,24,4)\n",
    "X=X_test\n",
    "yhat = model.predict(X)\n",
    "#print(yhat)\n",
    "\n",
    "def predict_for_n_timesteps(model,n_timesteps,X):\n",
    "    '''\n",
    "    Given a seed value of 24 previous hours, the\n",
    "    function outputs a prediction of then next\n",
    "    n_timesteps by recursively applying the model.\n",
    "    '''\n",
    "    yhat=X\n",
    "    for j in range(0,n_timesteps):\n",
    "        yhat=model.predict(yhat)\n",
    "    return yhat[0,24-n_timesteps:,:]\n",
    "\n",
    "pred_4=predict_for_n_timesteps(model,6,X_)\n",
    "print(pred_4)\n",
    "#print(X)"
   ]
  },
  {
   "cell_type": "code",
   "execution_count": 109,
   "metadata": {},
   "outputs": [
    {
     "name": "stdout",
     "output_type": "stream",
     "text": [
      "Saved model to disk\n"
     ]
    }
   ],
   "source": [
    "# serialize model to JSON\n",
    "model_json = model.to_json()\n",
    "with open(\"model.json\", \"w\") as json_file:\n",
    "    json_file.write(model_json)\n",
    "# serialize weights to HDF5\n",
    "model.save_weights(\"model.h5\")\n",
    "print(\"Saved model to disk\")"
   ]
  },
  {
   "cell_type": "code",
   "execution_count": 108,
   "metadata": {},
   "outputs": [
    {
     "data": {
      "image/png": "[encoded data removed]",
      "text/plain": [
       "<matplotlib.figure.Figure at 0x297b3ea29b0>"
      ]
     },
     "metadata": {},
     "output_type": "display_data"
    },
    {
     "name": "stdout",
     "output_type": "stream",
     "text": [
      "0.9555956883489027\n",
      "(95,)\n"
     ]
    }
   ],
   "source": [
    "from scipy.stats.stats import pearsonr\n",
    "no2_pred_lst=[]\n",
    "no2_true_lst=[]\n",
    "for j in range(0,100):\n",
    "    no2_pred=yhat[j,:,0].reshape(1,24)[0,:-1]\n",
    "    no2_pred_lst.append(no2_pred)\n",
    "    no2_true=X[j,:,0].reshape(1,24)[0,1:]\n",
    "    no2_true_lst.append(no2_true)\n",
    "corr_lst=[]\n",
    "for j in range(0,100):\n",
    "    corr_lst.append(np.corrcoef(no2_pred_lst[j],no2_true_lst[j])[0,1])\n",
    "#print(corr_lst)\n",
    "plt.hist(corr_lst)\n",
    "plt.show()\n",
    "print(np.mean(corr_lst))\n",
    "corr_lst=np.array(corr_lst)\n",
    "print(corr_lst[corr_lst>0.80].shape)"
   ]
  }
 ],
 "metadata": {
  "kernelspec": {
   "display_name": "Python 3",
   "language": "python",
   "name": "python3"
  },
  "language_info": {
   "codemirror_mode": {
    "name": "ipython",
    "version": 3
   },
   "file_extension": ".py",
   "mimetype": "text/x-python",
   "name": "python",
   "nbconvert_exporter": "python",
   "pygments_lexer": "ipython3",
   "version": "3.6.4"
  }
 },
 "nbformat": 4,
 "nbformat_minor": 2
}
